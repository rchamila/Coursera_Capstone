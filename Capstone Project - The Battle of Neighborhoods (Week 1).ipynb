{
 "cells": [
  {
   "cell_type": "markdown",
   "id": "672a93ee-f221-42d9-b3d1-46299a9c0858",
   "metadata": {},
   "source": [
    "# Capstone Project - The Battle of Neighborhoods (Week 1)"
   ]
  },
  {
   "cell_type": "markdown",
   "id": "354bdbe1-124d-4a89-b08b-d60cae006e03",
   "metadata": {},
   "source": [
    "## Problem\n"
   ]
  },
  {
   "cell_type": "markdown",
   "id": "bfb28c8a-39a6-446e-bd4b-c1e7f6c2d5b9",
   "metadata": {},
   "source": [
    "Its been identified New York as one of the popular venue for a new Indian restaurant. But an analysis needs to be carried out to identified which area is best for the restaurant given that New York is a big city. So the challenge is to find the higher number of sales where ever the place suggested.  \n",
    "There are several key factors needs to be considered when determine the neighbourhood for the restaurant. Mainly population density, cost , distance from the residential areas, current restaurants and income of residence in the area are the key factors. Here we’ll mainly focus on the population density and the demography."
   ]
  },
  {
   "cell_type": "markdown",
   "id": "75ede211-a62b-408f-a053-e2bbc277880c",
   "metadata": {},
   "source": [
    "## Data"
   ]
  },
  {
   "cell_type": "markdown",
   "id": "947a72c8-f816-48f8-b992-78eabe8c78a3",
   "metadata": {},
   "source": [
    "For the New York neighbourhood data, following Wikipedia pages will be used and it has all the information we need to explore and cluster the neighbourhoods in New York.  \n",
    "\n",
    "- https://en.wikipedia.org/wiki/Economy_of_New_York_City \n",
    "\n",
    "Additional data will be scrapped through following Wikipedia sources.\n",
    "\n",
    "- https://en.wikipedia.org/wiki/Cuisine_of_New_York_City\n",
    "- https://en.wikipedia.org/wiki/Economy_of_New_York_City\n",
    "- https://en.wikipedia.org/wiki/New_York_City\n",
    "\n",
    "Foursquare API will be used to explore the neighbourhood and segment it to find the quality of Indian restaurants.\n",
    "Target audience of this analysis will be the restaurant management.\n"
   ]
  },
  {
   "cell_type": "code",
   "execution_count": null,
   "id": "d839c9c7-bcd1-4ff2-9947-751c43d90d12",
   "metadata": {},
   "outputs": [],
   "source": []
  }
 ],
 "metadata": {
  "kernelspec": {
   "display_name": "Python",
   "language": "python",
   "name": "conda-env-python-py"
  },
  "language_info": {
   "codemirror_mode": {
    "name": "ipython",
    "version": 3
   },
   "file_extension": ".py",
   "mimetype": "text/x-python",
   "name": "python",
   "nbconvert_exporter": "python",
   "pygments_lexer": "ipython3",
   "version": "3.6.13"
  }
 },
 "nbformat": 4,
 "nbformat_minor": 5
}
